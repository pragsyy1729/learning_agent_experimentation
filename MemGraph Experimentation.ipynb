{
 "cells": [
  {
   "cell_type": "code",
   "execution_count": 44,
   "id": "5cf436c6-4059-4b05-8f20-1be838ba2e3c",
   "metadata": {},
   "outputs": [],
   "source": [
    "from langchain_memgraph.graphs.memgraph import MemgraphLangChain\n",
    "import os\n",
    "\n",
    "graph = MemgraphLangChain(\n",
    "    url= \"bolt://localhost:7687\",\n",
    "    username=\"pragathisai0912\",\n",
    "    password=\"YEUchiki@1505\",\n",
    "    database=\"memgraph\",\n",
    "    refresh_schema=False,\n",
    ")"
   ]
  },
  {
   "cell_type": "code",
   "execution_count": 52,
   "id": "b3f1ee9a-005d-4adf-825e-7d78497a158d",
   "metadata": {},
   "outputs": [],
   "source": [
    "from langchain_community.llms import Ollama\n",
    "llm = Ollama(model=\"dolphin-mistral:7b-v2.1\")"
   ]
  },
  {
   "cell_type": "code",
   "execution_count": 12,
   "id": "b4f3d4c3-4928-4223-acb0-fec2ad869695",
   "metadata": {},
   "outputs": [],
   "source": [
    "from langchain_experimental.graph_transformers import LLMGraphTransformer"
   ]
  },
  {
   "cell_type": "code",
   "execution_count": 17,
   "id": "7539a13b-d3b8-4c40-bd4f-c433b3af3b1c",
   "metadata": {},
   "outputs": [],
   "source": [
    "from langchain_core.documents import Document"
   ]
  },
  {
   "cell_type": "code",
   "execution_count": 18,
   "id": "af471a07-a370-498f-ab33-30d0df6e14c3",
   "metadata": {},
   "outputs": [],
   "source": [
    "documents = [Document(page_content=\"\"\"For the purposes of this document, the term model refers to a quantitative method, system, or approach that applies statistical, economic, financial, or mathematical theories, techniques, and assumptions to process input data into quantitative estimates. A model\n",
    "consists of three components: an information input component, which delivers assumptions and data to the model; a processing component, which transforms inputs into estimates; and a reporting component, which translates the estimates into useful business\n",
    "information. Models meeting this definition might be used for analyzing business strategies, informing business decisions, identifying and measuring risks, valuing\n",
    "exposures, instruments or positions, conducting stress testing, assessing adequacy of capital, managing client assets, measuring compliance with internal limits, maintaining\n",
    "the formal control apparatus of the bank, or meeting financial or regulatory reporting requirements and issuing public disclosures. The definition of model also covers\n",
    "quantitative approaches whose inputs are partially or wholly qualitative or based on expert judgment, provided that the output is quantitative in nature. Models are simplified representations of real-world relationships among observed\n",
    "characteristics, values, and events. Simplification is inevitable, due to the inherent complexity of those relationships, but also intentional, to focus attention on particular\n",
    "aspects considered to be most important for a given model application. Model quality can be measured in many ways: precision, accuracy, discriminatory power, robustness,\n",
    "stability, and reliability, to name a few. Models are never perfect, and the appropriate metrics of quality, and the effort that should be put into improving quality, depend on the\n",
    "situation. For example, precision and accuracy are relevant for models that forecast future values, while discriminatory power applies to models that rank order risks. In all\n",
    "situations, it is important to understand a model's capabilities and limitations given its\n",
    "simplifications and assumptions. \"\"\")]"
   ]
  },
  {
   "cell_type": "code",
   "execution_count": 53,
   "id": "b27d9acc-352a-49f6-90b1-433f79ff771d",
   "metadata": {},
   "outputs": [
    {
     "name": "stdout",
     "output_type": "stream",
     "text": [
      "ERROR! Session/line number was not unique in database. History logging moved to new session 33\n"
     ]
    }
   ],
   "source": [
    "graph_transformer = LLMGraphTransformer(llm)"
   ]
  },
  {
   "cell_type": "code",
   "execution_count": 54,
   "id": "97651b77-a6aa-418e-99d4-11d2d0058ad9",
   "metadata": {},
   "outputs": [],
   "source": [
    "graph_documents = graph_transformer.convert_to_graph_documents(documents)"
   ]
  },
  {
   "cell_type": "code",
   "execution_count": 55,
   "id": "6eec2bb0-49a7-401c-ae8a-d96fd5ce3aac",
   "metadata": {},
   "outputs": [],
   "source": [
    "graph.add_graph_documents(graph_documents)"
   ]
  },
  {
   "cell_type": "code",
   "execution_count": 56,
   "id": "f4ad804e-bc8a-408c-b2ac-7f2094f9b9e1",
   "metadata": {},
   "outputs": [
    {
     "data": {
      "text/plain": [
       "[{'n': {'id': 'Information Input Component'}}]"
      ]
     },
     "execution_count": 56,
     "metadata": {},
     "output_type": "execute_result"
    }
   ],
   "source": [
    "graph.query(\"MATCH (n) RETURN n LIMIT 1\")"
   ]
  },
  {
   "cell_type": "code",
   "execution_count": 57,
   "id": "00c541a5-3235-4959-b556-d085c4e090a2",
   "metadata": {
    "scrolled": true
   },
   "outputs": [
    {
     "data": {
      "text/plain": [
       "[GraphDocument(nodes=[Node(id='Information Input Component', type='Model Component', properties={}), Node(id='Reporting Component', type='Model Component', properties={}), Node(id='Quantitative Method, System, or Approach', type='Type of Model', properties={}), Node(id='Inputs into Estimates', type='Estimation Process', properties={}), Node(id='Models', type='Concept', properties={}), Node(id='Estimates into Useful Business Information', type='Business Utility', properties={}), Node(id=\"Business Strategies, Business Decisions, Risks, Valuing Exposures, Instruments or Positions, Stress Testing, Assessing Adequacy of Capital, Managing Client Assets, Measuring Compliance with Internal Limits, Maintaining Formal Control Apparatus, Bank's Financial or Regulatory Reporting Requirements, Public Disclosures\", type='Business Applications', properties={}), Node(id='Processing Component', type='Model Component', properties={}), Node(id='Assumptions and Data', type='Data', properties={})], relationships=[Relationship(source=Node(id='Models', type='Concept', properties={}), target=Node(id=\"Business Strategies, Business Decisions, Risks, Valuing Exposures, Instruments or Positions, Stress Testing, Assessing Adequacy of Capital, Managing Client Assets, Measuring Compliance with Internal Limits, Maintaining Formal Control Apparatus, Bank's Financial or Regulatory Reporting Requirements, Public Disclosures\", type='Business Applications', properties={}), type='APPLIES_TO', properties={}), Relationship(source=Node(id='Models', type='Concept', properties={}), target=Node(id='Quantitative Method, System, or Approach', type='Type of Model', properties={}), type='CAN_BE', properties={}), Relationship(source=Node(id='Information Input Component', type='Model Component', properties={}), target=Node(id='Assumptions and Data', type='Data', properties={}), type='DELIVERS', properties={}), Relationship(source=Node(id='Processing Component', type='Model Component', properties={}), target=Node(id='Inputs into Estimates', type='Estimation Process', properties={}), type='TRANSFORMS', properties={}), Relationship(source=Node(id='Reporting Component', type='Model Component', properties={}), target=Node(id='Estimates into Useful Business Information', type='Business Utility', properties={}), type='TRANSLATES', properties={})], source=Document(metadata={}, page_content=\"For the purposes of this document, the term model refers to a quantitative method, system, or approach that applies statistical, economic, financial, or mathematical theories, techniques, and assumptions to process input data into quantitative estimates. A model\\nconsists of three components: an information input component, which delivers assumptions and data to the model; a processing component, which transforms inputs into estimates; and a reporting component, which translates the estimates into useful business\\ninformation. Models meeting this definition might be used for analyzing business strategies, informing business decisions, identifying and measuring risks, valuing\\nexposures, instruments or positions, conducting stress testing, assessing adequacy of capital, managing client assets, measuring compliance with internal limits, maintaining\\nthe formal control apparatus of the bank, or meeting financial or regulatory reporting requirements and issuing public disclosures. The definition of model also covers\\nquantitative approaches whose inputs are partially or wholly qualitative or based on expert judgment, provided that the output is quantitative in nature. Models are simplified representations of real-world relationships among observed\\ncharacteristics, values, and events. Simplification is inevitable, due to the inherent complexity of those relationships, but also intentional, to focus attention on particular\\naspects considered to be most important for a given model application. Model quality can be measured in many ways: precision, accuracy, discriminatory power, robustness,\\nstability, and reliability, to name a few. Models are never perfect, and the appropriate metrics of quality, and the effort that should be put into improving quality, depend on the\\nsituation. For example, precision and accuracy are relevant for models that forecast future values, while discriminatory power applies to models that rank order risks. In all\\nsituations, it is important to understand a model's capabilities and limitations given its simplifications and assumptions. \"))]"
      ]
     },
     "execution_count": 57,
     "metadata": {},
     "output_type": "execute_result"
    }
   ],
   "source": [
    "graph_documents"
   ]
  },
  {
   "cell_type": "code",
   "execution_count": null,
   "id": "93bb6494-d25c-4d52-beb8-2a4809a463ed",
   "metadata": {},
   "outputs": [],
   "source": []
  }
 ],
 "metadata": {
  "kernelspec": {
   "display_name": "Python 3 (ipykernel)",
   "language": "python",
   "name": "python3"
  },
  "language_info": {
   "codemirror_mode": {
    "name": "ipython",
    "version": 3
   },
   "file_extension": ".py",
   "mimetype": "text/x-python",
   "name": "python",
   "nbconvert_exporter": "python",
   "pygments_lexer": "ipython3",
   "version": "3.12.7"
  }
 },
 "nbformat": 4,
 "nbformat_minor": 5
}
